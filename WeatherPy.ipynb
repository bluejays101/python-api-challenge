{
 "cells": [
  {
   "cell_type": "markdown",
   "metadata": {},
   "source": [
    "# WeatherPy\n",
    "\n",
    "---\n",
    "\n",
    "## Starter Code to Generate Random Geographic Coordinates and a List of Cities"
   ]
  },
  {
   "cell_type": "code",
   "execution_count": 1,
   "metadata": {
    "scrolled": true
   },
   "outputs": [],
   "source": [
    "# Dependencies and Setup\n",
    "import matplotlib.pyplot as plt\n",
    "import pandas as pd\n",
    "import numpy as np\n",
    "import requests\n",
    "import time\n",
    "import json\n",
    "import urllib.parse\n",
    "from scipy.stats import linregress\n",
    "\n",
    "# Impor the OpenWeatherMap API key\n",
    "from api_keys import weather_api_key\n",
    "\n",
    "# Import citipy to determine the cities based on latitude and longitude\n",
    "from citipy import citipy"
   ]
  },
  {
   "cell_type": "markdown",
   "metadata": {},
   "source": [
    "### Generate the Cities List by Using the `citipy` Library"
   ]
  },
  {
   "cell_type": "code",
   "execution_count": 2,
   "metadata": {},
   "outputs": [
    {
     "name": "stdout",
     "output_type": "stream",
     "text": [
      "Number of cities in the list: 582\n"
     ]
    }
   ],
   "source": [
    "# Empty list for holding the latitude and longitude combinations\n",
    "lat_lngs = []\n",
    "\n",
    "# Empty list for holding the cities names\n",
    "cities = []\n",
    "\n",
    "# Range of latitudes and longitudes\n",
    "lat_range = (-90, 90)\n",
    "lng_range = (-180, 180)\n",
    "\n",
    "# Create a set of random lat and lng combinations\n",
    "lats = np.random.uniform(lat_range[0], lat_range[1], size=1500)\n",
    "lngs = np.random.uniform(lng_range[0], lng_range[1], size=1500)\n",
    "lat_lngs = zip(lats, lngs)\n",
    "\n",
    "# Identify nearest city for each lat, lng combination\n",
    "for lat_lng in lat_lngs:\n",
    "    city = citipy.nearest_city(lat_lng[0], lat_lng[1]).city_name\n",
    "\n",
    "    # If the city is unique, then add it to a our cities list\n",
    "    if city not in cities:\n",
    "        cities.append(city)\n",
    "\n",
    "# Print the city count to confirm sufficient count\n",
    "print(f\"Number of cities in the list: {len(cities)}\")"
   ]
  },
  {
   "cell_type": "code",
   "execution_count": 3,
   "metadata": {},
   "outputs": [
    {
     "data": {
      "text/plain": [
       "'\\n    From docs: https://openweathermap.org/current\\n    https://api.openweathermap.org/data/2.5/weather?q={city name}&appid={API key}\\n'"
      ]
     },
     "execution_count": 3,
     "metadata": {},
     "output_type": "execute_result"
    }
   ],
   "source": [
    "\"\"\"\n",
    "    From docs: https://openweathermap.org/current\n",
    "    https://api.openweathermap.org/data/2.5/weather?q={city name}&appid={API key}\n",
    "\"\"\""
   ]
  },
  {
   "cell_type": "markdown",
   "metadata": {},
   "source": [
    "---"
   ]
  },
  {
   "cell_type": "markdown",
   "metadata": {},
   "source": [
    "## Requirement 1: Create Plots to Showcase the Relationship Between Weather Variables and Latitude\n",
    "\n",
    "### Use the OpenWeatherMap API to retrieve weather data from the cities list generated in the started code"
   ]
  },
  {
   "cell_type": "code",
   "execution_count": 8,
   "metadata": {},
   "outputs": [
    {
     "name": "stdout",
     "output_type": "stream",
     "text": [
      "Beginning Data Retrieval     \n",
      "-----------------------------\n",
      "https://api.openweathermap.org/data/2.5/weather?q=bethel&appid=a6d33a53a92cdb76f3d1eb83ac0c2b2b\n",
      "Processing Record 1 of Set 1 | bethel\n",
      "{'coord': {'lon': -73.414, 'lat': 41.3712}, 'weather': [{'id': 802, 'main': 'Clouds', 'description': 'scattered clouds', 'icon': '03n'}], 'base': 'stations', 'main': {'temp': 263.75, 'feels_like': 260.11, 'temp_min': 262.92, 'temp_max': 264.94, 'pressure': 1026, 'humidity': 60, 'sea_level': 1026, 'grnd_level': 1004}, 'visibility': 10000, 'wind': {'speed': 1.79, 'deg': 285, 'gust': 3.58}, 'clouds': {'all': 29}, 'dt': 1739949421, 'sys': {'type': 2, 'id': 2093006, 'country': 'US', 'sunrise': 1739965380, 'sunset': 1740004335}, 'timezone': -18000, 'id': 5282297, 'name': 'Bethel', 'cod': 200}\n",
      "sleeping for a second\n",
      "https://api.openweathermap.org/data/2.5/weather?q=puerto+natales&appid=a6d33a53a92cdb76f3d1eb83ac0c2b2b\n",
      "Processing Record 2 of Set 1 | puerto natales\n",
      "{'coord': {'lon': -72.4875, 'lat': -51.7236}, 'weather': [{'id': 803, 'main': 'Clouds', 'description': 'broken clouds', 'icon': '04n'}], 'base': 'stations', 'main': {'temp': 282.63, 'feels_like': 281.32, 'temp_min': 282.63, 'temp_max': 282.63, 'pressure': 1001, 'humidity': 97, 'sea_level': 1001, 'grnd_level': 997}, 'visibility': 10000, 'wind': {'speed': 2.55, 'deg': 357, 'gust': 3.7}, 'clouds': {'all': 77}, 'dt': 1739949423, 'sys': {'country': 'CL', 'sunrise': 1739959227, 'sunset': 1740010043}, 'timezone': -10800, 'id': 3874958, 'name': 'Puerto Natales', 'cod': 200}\n",
      "sleeping for a second\n",
      "https://api.openweathermap.org/data/2.5/weather?q=port-aux-francais&appid=a6d33a53a92cdb76f3d1eb83ac0c2b2b\n",
      "Processing Record 3 of Set 1 | port-aux-francais\n",
      "{'coord': {'lon': 70.2167, 'lat': -49.35}, 'weather': [{'id': 802, 'main': 'Clouds', 'description': 'scattered clouds', 'icon': '03d'}], 'base': 'stations', 'main': {'temp': 278.78, 'feels_like': 274.51, 'temp_min': 278.78, 'temp_max': 278.78, 'pressure': 1020, 'humidity': 77, 'sea_level': 1020, 'grnd_level': 1018}, 'visibility': 10000, 'wind': {'speed': 6.9, 'deg': 256, 'gust': 7.8}, 'clouds': {'all': 47}, 'dt': 1739949424, 'sys': {'country': 'TF', 'sunrise': 1739925243, 'sunset': 1739975534}, 'timezone': 18000, 'id': 1546102, 'name': 'Port-aux-Français', 'cod': 200}\n",
      "sleeping for a second\n",
      "https://api.openweathermap.org/data/2.5/weather?q=taiohae&appid=a6d33a53a92cdb76f3d1eb83ac0c2b2b\n",
      "Processing Record 4 of Set 1 | taiohae\n",
      "couldnt find taiohae\n",
      "sleeping for a second\n",
      "https://api.openweathermap.org/data/2.5/weather?q=colchani&appid=a6d33a53a92cdb76f3d1eb83ac0c2b2b\n",
      "Processing Record 5 of Set 1 | colchani\n",
      "{'coord': {'lon': -66.9333, 'lat': -20.3}, 'weather': [{'id': 804, 'main': 'Clouds', 'description': 'overcast clouds', 'icon': '04n'}], 'base': 'stations', 'main': {'temp': 284.75, 'feels_like': 283.77, 'temp_min': 284.75, 'temp_max': 284.75, 'pressure': 1011, 'humidity': 69, 'sea_level': 1011, 'grnd_level': 648}, 'visibility': 10000, 'wind': {'speed': 3.96, 'deg': 327, 'gust': 6.14}, 'clouds': {'all': 100}, 'dt': 1739949426, 'sys': {'country': 'BO', 'sunrise': 1739960482, 'sunset': 1740006122}, 'timezone': -14400, 'id': 3919884, 'name': 'Colchani', 'cod': 200}\n",
      "sleeping for a second\n",
      "https://api.openweathermap.org/data/2.5/weather?q=floro&appid=a6d33a53a92cdb76f3d1eb83ac0c2b2b\n",
      "Processing Record 6 of Set 1 | floro\n",
      "{'coord': {'lon': 5.0328, 'lat': 61.5996}, 'weather': [{'id': 802, 'main': 'Clouds', 'description': 'scattered clouds', 'icon': '03d'}], 'base': 'stations', 'main': {'temp': 273.13, 'feels_like': 266.91, 'temp_min': 273.13, 'temp_max': 273.13, 'pressure': 1026, 'humidity': 59, 'sea_level': 1026, 'grnd_level': 1018}, 'visibility': 10000, 'wind': {'speed': 7.72, 'deg': 130}, 'clouds': {'all': 40}, 'dt': 1739949428, 'sys': {'type': 1, 'id': 1616, 'country': 'NO', 'sunrise': 1739949139, 'sunset': 1739982924}, 'timezone': 3600, 'id': 3156980, 'name': 'Florø', 'cod': 200}\n",
      "sleeping for a second\n",
      "https://api.openweathermap.org/data/2.5/weather?q=fale+old+settlement&appid=a6d33a53a92cdb76f3d1eb83ac0c2b2b\n",
      "Processing Record 7 of Set 1 | fale old settlement\n",
      "{'coord': {'lon': -171.2468, 'lat': -9.3852}, 'weather': [{'id': 804, 'main': 'Clouds', 'description': 'overcast clouds', 'icon': '04n'}], 'base': 'stations', 'main': {'temp': 301.8, 'feels_like': 304.48, 'temp_min': 301.8, 'temp_max': 301.8, 'pressure': 1006, 'humidity': 66, 'sea_level': 1006, 'grnd_level': 1006}, 'visibility': 10000, 'wind': {'speed': 10.49, 'deg': 333, 'gust': 11.4}, 'clouds': {'all': 91}, 'dt': 1739949429, 'sys': {'country': 'TK', 'sunrise': 1739986086, 'sunset': 1740030585}, 'timezone': 46800, 'id': 4031110, 'name': 'Fale old settlement', 'cod': 200}\n",
      "sleeping for a second\n"
     ]
    },
    {
     "ename": "KeyboardInterrupt",
     "evalue": "",
     "output_type": "error",
     "traceback": [
      "\u001b[1;31m---------------------------------------------------------------------------\u001b[0m",
      "\u001b[1;31mKeyboardInterrupt\u001b[0m                         Traceback (most recent call last)",
      "Cell \u001b[1;32mIn[8], line 67\u001b[0m\n\u001b[0;32m     65\u001b[0m     \u001b[38;5;28;01mfinally\u001b[39;00m:\n\u001b[0;32m     66\u001b[0m         \u001b[38;5;28mprint\u001b[39m(\u001b[38;5;124m'\u001b[39m\u001b[38;5;124msleeping for a second\u001b[39m\u001b[38;5;124m'\u001b[39m)\n\u001b[1;32m---> 67\u001b[0m         \u001b[43mtime\u001b[49m\u001b[38;5;241;43m.\u001b[39;49m\u001b[43msleep\u001b[49m\u001b[43m(\u001b[49m\u001b[38;5;241;43m1\u001b[39;49m\u001b[43m)\u001b[49m\n\u001b[0;32m     69\u001b[0m \u001b[38;5;66;03m# Indicate that Data Loading is complete\u001b[39;00m\n\u001b[0;32m     70\u001b[0m \u001b[38;5;28mprint\u001b[39m(\u001b[38;5;124m\"\u001b[39m\u001b[38;5;124m-----------------------------\u001b[39m\u001b[38;5;124m\"\u001b[39m)\n",
      "\u001b[1;31mKeyboardInterrupt\u001b[0m: "
     ]
    }
   ],
   "source": [
    "# Set the API base URL\n",
    "url = 'https://api.openweathermap.org/data/2.5/weather'\n",
    "\n",
    "# Define an empty list to fetch the weather data for each city\n",
    "city_data = []\n",
    "\n",
    "# Print to logger\n",
    "print(\"Beginning Data Retrieval     \")\n",
    "print(\"-----------------------------\")\n",
    "\n",
    "# Create counters\n",
    "record_count = 1\n",
    "set_count = 1\n",
    "\n",
    "# Loop through all the cities in our list to fetch weather data\n",
    "for i, city in enumerate(cities):\n",
    "\n",
    "    # Group cities in sets of 50 for logging purposes\n",
    "    if (i % 50 == 0 and i >= 50):\n",
    "        set_count += 1\n",
    "        record_count = 0\n",
    "\n",
    "    QUERY_DICT = {\n",
    "        'q': city,\n",
    "        'appid': weather_api_key\n",
    "    }\n",
    "\n",
    "    query_string = urllib.parse.urlencode(QUERY_DICT)\n",
    "    city_url = f'{url}?{query_string}' \n",
    "    print(city_url)\n",
    "    \n",
    "    # Log the url, record, and set numbers\n",
    "    print(\"Processing Record %s of Set %s | %s\" % (record_count, set_count, city))\n",
    "\n",
    "    # Add 1 to the record count\n",
    "    record_count += 1\n",
    "\n",
    "    # Run an API request for each of the cities\n",
    "    try:\n",
    "        # Parse the JSON and retrieve data\n",
    "        city_weather = requests.get(city_url).json()\n",
    "        city_lat = city_weather['coord']['lat']\n",
    "        city_lng = city_weather['coord']['lon']\n",
    "        city_max_temp = city_weather['main']['temp_max']\n",
    "        city_humidity = city_weather['main']['humidity']\n",
    "        city_clouds = city_weather['clouds']['all']\n",
    "        city_wind = city_weather['wind']['speed']\n",
    "        city_country = city_weather['sys']['country']\n",
    "        # city_date = city_weather\n",
    "\n",
    "        # Append the City information into city_data list\n",
    "        city_data.append({\"City\": city,\n",
    "                          \"Lat\": city_lat,\n",
    "                          \"Lng\": city_lng,\n",
    "                          \"Max Temp\": city_max_temp,\n",
    "                          \"Humidity\": city_humidity,\n",
    "                          \"Cloudiness\": city_clouds,\n",
    "                          \"Wind Speed\": city_wind,\n",
    "                          \"Country\": city_country,})\n",
    "                          # \"Date\": city_date})\n",
    "\n",
    "        print(city_weather)\n",
    "    except:\n",
    "        print(f\"couldnt find {city}\")\n",
    "    finally:\n",
    "        print('sleeping for a second')\n",
    "        time.sleep(1)\n",
    "        \n",
    "# Indicate that Data Loading is complete\n",
    "print(\"-----------------------------\")\n",
    "print(\"Data Retrieval Complete      \")\n",
    "print(\"-----------------------------\")\n"
   ]
  },
  {
   "cell_type": "code",
   "execution_count": 9,
   "metadata": {},
   "outputs": [
    {
     "data": {
      "text/plain": [
       "[{'City': 'bethel',\n",
       "  'Lat': 41.3712,\n",
       "  'Lng': -73.414,\n",
       "  'Max Temp': 264.94,\n",
       "  'Humidity': 60,\n",
       "  'Cloudiness': 29,\n",
       "  'Wind Speed': 1.79,\n",
       "  'Country': 'US'},\n",
       " {'City': 'puerto natales',\n",
       "  'Lat': -51.7236,\n",
       "  'Lng': -72.4875,\n",
       "  'Max Temp': 282.63,\n",
       "  'Humidity': 97,\n",
       "  'Cloudiness': 77,\n",
       "  'Wind Speed': 2.55,\n",
       "  'Country': 'CL'},\n",
       " {'City': 'port-aux-francais',\n",
       "  'Lat': -49.35,\n",
       "  'Lng': 70.2167,\n",
       "  'Max Temp': 278.78,\n",
       "  'Humidity': 77,\n",
       "  'Cloudiness': 47,\n",
       "  'Wind Speed': 6.9,\n",
       "  'Country': 'TF'},\n",
       " {'City': 'colchani',\n",
       "  'Lat': -20.3,\n",
       "  'Lng': -66.9333,\n",
       "  'Max Temp': 284.75,\n",
       "  'Humidity': 69,\n",
       "  'Cloudiness': 100,\n",
       "  'Wind Speed': 3.96,\n",
       "  'Country': 'BO'},\n",
       " {'City': 'floro',\n",
       "  'Lat': 61.5996,\n",
       "  'Lng': 5.0328,\n",
       "  'Max Temp': 273.13,\n",
       "  'Humidity': 59,\n",
       "  'Cloudiness': 40,\n",
       "  'Wind Speed': 7.72,\n",
       "  'Country': 'NO'},\n",
       " {'City': 'fale old settlement',\n",
       "  'Lat': -9.3852,\n",
       "  'Lng': -171.2468,\n",
       "  'Max Temp': 301.8,\n",
       "  'Humidity': 66,\n",
       "  'Cloudiness': 91,\n",
       "  'Wind Speed': 10.49,\n",
       "  'Country': 'TK'}]"
      ]
     },
     "execution_count": 9,
     "metadata": {},
     "output_type": "execute_result"
    }
   ],
   "source": [
    "city_data"
   ]
  },
  {
   "cell_type": "code",
   "execution_count": null,
   "metadata": {},
   "outputs": [],
   "source": [
    "# Convert the cities weather data into a Pandas DataFrame\n",
    "city_data_df = pd.DataFrame(\n",
    "\n",
    "# Show Record Count\n",
    "city_data_df.count()"
   ]
  },
  {
   "cell_type": "code",
   "execution_count": null,
   "metadata": {},
   "outputs": [],
   "source": [
    "# Display sample data\n",
    "city_data_df.head()"
   ]
  },
  {
   "cell_type": "code",
   "execution_count": null,
   "metadata": {},
   "outputs": [],
   "source": [
    "# Export the City_Data into a csv\n",
    "city_data_df.to_csv(\"output_data/cities.csv\", index_label=\"City_ID\")"
   ]
  },
  {
   "cell_type": "code",
   "execution_count": null,
   "metadata": {},
   "outputs": [],
   "source": [
    "# Read saved data\n",
    "city_data_df = pd.read_csv(\"output_data/cities.csv\", index_col=\"City_ID\")\n",
    "\n",
    "# Display sample data\n",
    "city_data_df.head()"
   ]
  },
  {
   "cell_type": "markdown",
   "metadata": {},
   "source": [
    "### Create the Scatter Plots Requested\n",
    "\n",
    "#### Latitude Vs. Temperature"
   ]
  },
  {
   "cell_type": "code",
   "execution_count": null,
   "metadata": {
    "tags": []
   },
   "outputs": [],
   "source": [
    "# Build scatter plot for latitude vs. temperature\n",
    "# YOUR CODE HERE\n",
    "\n",
    "# Incorporate the other graph properties\n",
    "# YOUR CODE HERE\n",
    "\n",
    "# Save the figure\n",
    "plt.savefig(\"output_data/Fig1.png\")\n",
    "\n",
    "# Show plot\n",
    "plt.show()"
   ]
  },
  {
   "cell_type": "markdown",
   "metadata": {},
   "source": [
    "#### Latitude Vs. Humidity"
   ]
  },
  {
   "cell_type": "code",
   "execution_count": null,
   "metadata": {},
   "outputs": [],
   "source": [
    "# Build the scatter plots for latitude vs. humidity\n",
    "# YOUR CODE HERE\n",
    "\n",
    "# Incorporate the other graph properties\n",
    "# YOUR CODE HERE\n",
    "\n",
    "# Save the figure\n",
    "plt.savefig(\"output_data/Fig2.png\")\n",
    "\n",
    "# Show plot\n",
    "plt.show()"
   ]
  },
  {
   "cell_type": "markdown",
   "metadata": {},
   "source": [
    "#### Latitude Vs. Cloudiness"
   ]
  },
  {
   "cell_type": "code",
   "execution_count": null,
   "metadata": {},
   "outputs": [],
   "source": [
    "# Build the scatter plots for latitude vs. cloudiness\n",
    "# YOUR CODE HERE\n",
    "\n",
    "# Incorporate the other graph properties\n",
    "# YOUR CODE HERE\n",
    "\n",
    "# Save the figure\n",
    "plt.savefig(\"output_data/Fig3.png\")\n",
    "\n",
    "# Show plot\n",
    "plt.show()"
   ]
  },
  {
   "cell_type": "markdown",
   "metadata": {},
   "source": [
    "#### Latitude vs. Wind Speed Plot"
   ]
  },
  {
   "cell_type": "code",
   "execution_count": null,
   "metadata": {},
   "outputs": [],
   "source": [
    "# Build the scatter plots for latitude vs. wind speed\n",
    "# YOUR CODE HERE\n",
    "\n",
    "# Incorporate the other graph properties\n",
    "# YOUR CODE HERE\n",
    "\n",
    "# Save the figure\n",
    "plt.savefig(\"output_data/Fig4.png\")\n",
    "\n",
    "# Show plot\n",
    "plt.show()"
   ]
  },
  {
   "cell_type": "markdown",
   "metadata": {},
   "source": [
    "---\n",
    "\n",
    "## Requirement 2: Compute Linear Regression for Each Relationship\n"
   ]
  },
  {
   "cell_type": "code",
   "execution_count": null,
   "metadata": {},
   "outputs": [],
   "source": [
    "# Define a function to create Linear Regression plots\n",
    "# YOUR CODE HERE"
   ]
  },
  {
   "cell_type": "code",
   "execution_count": null,
   "metadata": {},
   "outputs": [],
   "source": [
    "# Create a DataFrame with the Northern Hemisphere data (Latitude >= 0)\n",
    "# YOUR CODE HERE\n",
    "\n",
    "# Display sample data\n",
    "northern_hemi_df.head()"
   ]
  },
  {
   "cell_type": "code",
   "execution_count": null,
   "metadata": {},
   "outputs": [],
   "source": [
    "# Create a DataFrame with the Southern Hemisphere data (Latitude < 0)\n",
    "# YOUR CODE HERE\n",
    "\n",
    "# Display sample data\n",
    "southern_hemi_df.head()"
   ]
  },
  {
   "cell_type": "markdown",
   "metadata": {},
   "source": [
    "###  Temperature vs. Latitude Linear Regression Plot"
   ]
  },
  {
   "cell_type": "code",
   "execution_count": null,
   "metadata": {},
   "outputs": [],
   "source": [
    "# Linear regression on Northern Hemisphere\n",
    "# YOUR CODE HERE"
   ]
  },
  {
   "cell_type": "code",
   "execution_count": null,
   "metadata": {},
   "outputs": [],
   "source": [
    "# Linear regression on Southern Hemisphere\n",
    "# YOUR CODE HERE"
   ]
  },
  {
   "cell_type": "markdown",
   "metadata": {},
   "source": [
    "**Discussion about the linear relationship:** YOUR RESPONSE HERE"
   ]
  },
  {
   "cell_type": "markdown",
   "metadata": {},
   "source": [
    "### Humidity vs. Latitude Linear Regression Plot"
   ]
  },
  {
   "cell_type": "code",
   "execution_count": null,
   "metadata": {},
   "outputs": [],
   "source": [
    "# Northern Hemisphere\n",
    "# YOUR CODE HERE"
   ]
  },
  {
   "cell_type": "code",
   "execution_count": null,
   "metadata": {},
   "outputs": [],
   "source": [
    "# Southern Hemisphere\n",
    "# YOUR CODE HERE"
   ]
  },
  {
   "cell_type": "markdown",
   "metadata": {},
   "source": [
    "**Discussion about the linear relationship:** YOUR RESPONSE HERE"
   ]
  },
  {
   "cell_type": "markdown",
   "metadata": {},
   "source": [
    "### Cloudiness vs. Latitude Linear Regression Plot"
   ]
  },
  {
   "cell_type": "code",
   "execution_count": null,
   "metadata": {},
   "outputs": [],
   "source": [
    "# Northern Hemisphere\n",
    "# YOUR CODE HERE"
   ]
  },
  {
   "cell_type": "code",
   "execution_count": null,
   "metadata": {},
   "outputs": [],
   "source": [
    "# Southern Hemisphere\n",
    "# YOUR CODE HERE"
   ]
  },
  {
   "cell_type": "markdown",
   "metadata": {},
   "source": [
    "**Discussion about the linear relationship:** YOUR RESPONSE HERE"
   ]
  },
  {
   "cell_type": "markdown",
   "metadata": {},
   "source": [
    "### Wind Speed vs. Latitude Linear Regression Plot"
   ]
  },
  {
   "cell_type": "code",
   "execution_count": null,
   "metadata": {},
   "outputs": [],
   "source": [
    "# Northern Hemisphere\n",
    "# YOUR CODE HERE"
   ]
  },
  {
   "cell_type": "code",
   "execution_count": null,
   "metadata": {},
   "outputs": [],
   "source": [
    "# Southern Hemisphere\n",
    "# YOUR CODE HERE"
   ]
  },
  {
   "cell_type": "markdown",
   "metadata": {},
   "source": [
    "**Discussion about the linear relationship:** YOUR RESPONSE HERE"
   ]
  },
  {
   "cell_type": "code",
   "execution_count": null,
   "metadata": {},
   "outputs": [],
   "source": []
  }
 ],
 "metadata": {
  "anaconda-cloud": {},
  "kernel_info": {
   "name": "python3"
  },
  "kernelspec": {
   "display_name": "Python 3 (ipykernel)",
   "language": "python",
   "name": "python3"
  },
  "language_info": {
   "codemirror_mode": {
    "name": "ipython",
    "version": 3
   },
   "file_extension": ".py",
   "mimetype": "text/x-python",
   "name": "python",
   "nbconvert_exporter": "python",
   "pygments_lexer": "ipython3",
   "version": "3.13.1"
  },
  "latex_envs": {
   "LaTeX_envs_menu_present": true,
   "autoclose": false,
   "autocomplete": true,
   "bibliofile": "biblio.bib",
   "cite_by": "apalike",
   "current_citInitial": 1,
   "eqLabelWithNumbers": true,
   "eqNumInitial": 1,
   "hotkeys": {
    "equation": "Ctrl-E",
    "itemize": "Ctrl-I"
   },
   "labels_anchors": false,
   "latex_user_defs": false,
   "report_style_numbering": false,
   "user_envs_cfg": false
  },
  "nteract": {
   "version": "0.12.3"
  }
 },
 "nbformat": 4,
 "nbformat_minor": 4
}
